{
 "cells": [
  {
   "cell_type": "code",
   "execution_count": null,
   "id": "1c0dfa3d",
   "metadata": {},
   "outputs": [],
   "source": [
    "import numpy as np \n",
    "import pandas as pd \n",
    "import matplotlib.pyplot as plt\n",
    "import plotly.graph_objects as go\n",
    "import plotly.express as px\n",
    "pd.set_option('display.max_rows', None)\n",
    "from plotly.subplots import make_subplots\n",
    "import seaborn as sns\n",
    "import datetime\n",
    "\n",
    "#Plotly Libraris\n",
    "import plotly.express as px\n",
    "\n",
    "# Minmax scaler\n",
    "from sklearn.preprocessing import MinMaxScaler\n",
    "\n",
    "#itertools\n",
    "import itertools\n",
    "\n",
    "#dataframe display settings\n",
    "pd.set_option('display.max_columns', 5000000)\n",
    "pd.set_option('display.max_rows', 50000000)\n",
    "\n",
    "#to suppress un-necessary warnings\n",
    "import warnings  \n",
    "warnings.filterwarnings('ignore')\n",
    "\n",
    "\n",
    "#Package to flatten python lists\n",
    "from pandas.core.common import flatten"
   ]
  },
  {
   "cell_type": "code",
   "execution_count": null,
   "id": "9ae1621d",
   "metadata": {},
   "outputs": [],
   "source": [
    "covid_data = pd.read_csv('covid_19_data.csv')\n",
    "covid_confirmed = pd.read_csv('time_series_covid_19_confirmed.csv')\n",
    "covid_deaths = pd.read_csv('time_series_covid_19_deaths.csv')\n",
    "covid_recovered = pd.read_csv('time_series_covid_19_recovered.csv')"
   ]
  },
  {
   "cell_type": "code",
   "execution_count": null,
   "id": "20e3480b",
   "metadata": {},
   "outputs": [],
   "source": [
    "covid_confirmed.describe()"
   ]
  },
  {
   "cell_type": "code",
   "execution_count": null,
   "id": "50584ee4",
   "metadata": {},
   "outputs": [],
   "source": [
    "NAN = [(c, covid_data[c].isna().mean()*100) for c in covid_data]\n",
    "NAN = pd.DataFrame(NAN, columns=[\"column_name\", \"percentage\"])\n",
    "NAN"
   ]
  },
  {
   "cell_type": "markdown",
   "id": "e21651f4",
   "metadata": {},
   "source": [
    "<font color='black'> 34 % of Province/State are unknown we will fill nan values with Unknown. </font>0"
   ]
  },
  {
   "cell_type": "code",
   "execution_count": null,
   "id": "a925901e",
   "metadata": {},
   "outputs": [],
   "source": [
    "covid_data[\"Province/State\"]= covid_data[\"Province/State\"].fillna('Unknown')"
   ]
  },
  {
   "cell_type": "markdown",
   "id": "3acce25a",
   "metadata": {},
   "source": [
    "Change Data Type for \"Confirmed\",\"Deaths\" and \"Recovered\"  columns to int"
   ]
  },
  {
   "cell_type": "code",
   "execution_count": null,
   "id": "eac3b932",
   "metadata": {},
   "outputs": [],
   "source": [
    "covid_data[[\"Confirmed\",\"Deaths\",\"Recovered\"]] =covid_data[[\"Confirmed\",\"Deaths\",\"Recovered\"]].astype(int)"
   ]
  },
  {
   "cell_type": "markdown",
   "id": "a00dd10f",
   "metadata": {},
   "source": [
    "Replacing \"Mainland China\" with \"China\" "
   ]
  },
  {
   "cell_type": "code",
   "execution_count": null,
   "id": "46013cb2",
   "metadata": {},
   "outputs": [],
   "source": [
    "covid_data['Country/Region'] = covid_data['Country/Region'].replace('Mainland China', 'China')"
   ]
  },
  {
   "cell_type": "markdown",
   "id": "89798373",
   "metadata": {},
   "source": [
    "* Creating new feature \"Active_case\" \n",
    "* Active_case = Confirmed - Deaths - Recovered"
   ]
  },
  {
   "cell_type": "code",
   "execution_count": null,
   "id": "b5183fc6",
   "metadata": {},
   "outputs": [],
   "source": [
    "covid_data['Active_case'] = covid_data['Confirmed'] - covid_data['Deaths'] - covid_data['Recovered']"
   ]
  },
  {
   "cell_type": "code",
   "execution_count": null,
   "id": "9276ddc7",
   "metadata": {},
   "outputs": [],
   "source": [
    "covid_data.head()"
   ]
  },
  {
   "cell_type": "code",
   "execution_count": null,
   "id": "c1404206",
   "metadata": {},
   "outputs": [],
   "source": [
    "Data = covid_data[covid_data['ObservationDate'] == max(covid_data['ObservationDate'])].reset_index()"
   ]
  },
  {
   "cell_type": "markdown",
   "id": "2eb300b6",
   "metadata": {},
   "source": [
    "### Time series stats "
   ]
  },
  {
   "cell_type": "code",
   "execution_count": null,
   "id": "897ad38e",
   "metadata": {},
   "outputs": [],
   "source": [
    "base_stats = pd.DataFrame(columns=['Dates','Confirmed','Deaths','Recovered','Active'])\n",
    "base_stats['Dates'] = covid_confirmed.columns[4:]\n",
    "\n",
    "base_stats['Confirmed'] = base_stats['Dates'].apply(lambda x: covid_confirmed[x].sum())\n",
    "base_stats['Deaths'] = base_stats['Dates'].apply(lambda x: covid_deaths[x].sum())\n",
    "base_stats['Recovered'] = base_stats['Dates'].apply(lambda x: covid_recovered[x].sum())\n",
    "base_stats.reset_index(drop=False, inplace=True)\n",
    "base_stats['Active'] = base_stats['index'].apply(lambda x: (base_stats['Confirmed'][x]-(base_stats['Deaths'][x]+base_stats['Recovered'][x])))\n",
    "base_stats.head()"
   ]
  },
  {
   "cell_type": "code",
   "execution_count": null,
   "id": "d27c4ba1",
   "metadata": {},
   "outputs": [],
   "source": [
    "latest_stats_fig = go.Figure()\n",
    "latest_stats_fig.add_trace(go.Treemap(labels = ['Confirmed','Active','Recovered','Deaths'],\n",
    "                                     parents = ['','Confirmed','Confirmed','Confirmed'],\n",
    "                                     values = [base_stats['Confirmed'].sum(), base_stats['Active'].sum(), base_stats['Recovered'].sum(), base_stats['Deaths'].sum()],\n",
    "                                      branchvalues=\"total\", marker_colors = ['#118ab2','#ef476f','#06d6a0','#073b4c'],\n",
    "                                      textinfo = \"label+text+value\",\n",
    "                                      outsidetextfont = {\"size\": 30, \"color\": \"darkblue\"},\n",
    "                                      marker = {\"line\": {\"width\": 2}},\n",
    "                                        pathbar = {\"visible\": False}\n",
    "                                     ))\n",
    "latest_stats_fig.update_layout(#width=1000, \n",
    "                               height=300)\n",
    "latest_stats_fig.show()"
   ]
  },
  {
   "cell_type": "markdown",
   "id": "1ca7d8b6",
   "metadata": {},
   "source": [
    "### Cases over time around the world"
   ]
  },
  {
   "cell_type": "code",
   "execution_count": null,
   "id": "12e52dd7",
   "metadata": {},
   "outputs": [],
   "source": [
    "base_stats_fig = go.Figure()\n",
    "\n",
    "for column in base_stats.columns.to_list()[2:6]:\n",
    "    color_dict = {\n",
    "      \"Confirmed\": \"#118ab2\",\n",
    "      \"Active\": \"#ef476f\",\n",
    "      \"Recovered\": \"#06d6a0\",\n",
    "      \"Deaths\": \"#073b4c\"\n",
    "        }\n",
    "    base_stats_fig.add_trace(\n",
    "        go.Scatter(\n",
    "            x = base_stats['Dates'],\n",
    "            y = base_stats[column],\n",
    "            name = column,\n",
    "            line = dict(color=color_dict[column]),\n",
    "            hovertemplate ='<br><b>Date</b>: %{x}'+'<br><i>Count</i>:'+'%{y}',\n",
    "        )\n",
    "    )\n",
    "    \n",
    "for column in base_stats.columns.to_list()[2:6]:\n",
    "    color_dict = {\n",
    "      \"Confirmed\": \"#149ECC\",\n",
    "      \"Active\": \"#F47C98\",\n",
    "      \"Recovered\": \"#24F9C1\",\n",
    "      \"Deaths\": \"#0C6583\"\n",
    "        }\n",
    "    base_stats_fig.add_trace(\n",
    "        go.Scatter(\n",
    "            x = base_stats['Dates'],\n",
    "            y = base_stats['index'].apply(lambda x: (base_stats[column][x-7:x].sum())/7 if x>7 else (base_stats[column][0:x].sum())/7),\n",
    "            name = column+\" 7-day Moving Avg.\",\n",
    "            line = dict(dash=\"dash\", color=color_dict[column]), showlegend=False,\n",
    "            hovertemplate = '<br><b>Date</b>: %{x}'+'<br><i>7-day moving avg.</i>: %{y}'\n",
    "        )\n",
    "    )\n",
    "    \n",
    "base_stats_fig.update_layout(\n",
    "    updatemenus=[\n",
    "        dict(\n",
    "        buttons=list(\n",
    "            [dict(label = 'All Cases',\n",
    "                  method = 'update',\n",
    "                  args = [{'visible': [True, True, True, True, True, True, True, True]},\n",
    "                          {'title': 'All Cases',\n",
    "                           'showlegend':True}]),\n",
    "             dict(label = 'Confirmed',\n",
    "                  method = 'update',\n",
    "                  args = [{'visible': [True, False, False, False, True, False, False, False]},\n",
    "                          {'title': 'Confirmed',\n",
    "                           'showlegend':True}]),\n",
    "             dict(label = 'Active',\n",
    "                  method = 'update',\n",
    "                  args = [{'visible': [False, False, False, True, False, False, False, True]},\n",
    "                          {'title': 'Active',\n",
    "                           'showlegend':True}]),\n",
    "             dict(label = 'Recovered',\n",
    "                  method = 'update',\n",
    "                  args = [{'visible': [False, False, True, False, False, False, True, False]},\n",
    "                          {'title': 'Recovered',\n",
    "                           'showlegend':True}]),\n",
    "             dict(label = 'Deaths',\n",
    "                  method = 'update',\n",
    "                  args = [{'visible': [False, True, False, False, False, True, False, False]},\n",
    "                          {'title': 'Deaths',\n",
    "                           'showlegend':True}]),\n",
    "            ]),\n",
    "             type = \"dropdown\",\n",
    "             direction=\"down\",\n",
    "#             pad={\"r\": 10, \"t\": 40},\n",
    "             showactive=True,\n",
    "             x=0,\n",
    "             xanchor=\"left\",\n",
    "             y=1.25,\n",
    "             yanchor=\"top\"\n",
    "        ),\n",
    "        dict(\n",
    "        buttons=list(\n",
    "            [dict(label = 'Linear Scale',\n",
    "                  method = 'relayout',\n",
    "                  args = [{'yaxis': {'type': 'linear'}},\n",
    "                          {'title': 'All Cases',\n",
    "                           'showlegend':True}]),\n",
    "             dict(label = 'Log Scale',\n",
    "                  method = 'relayout',\n",
    "                  args = [{'yaxis': {'type': 'log'}},\n",
    "                          {'title': 'Confirmed',\n",
    "                           'showlegend':True}]),\n",
    "            ]),\n",
    "             type = \"dropdown\",\n",
    "             direction=\"down\",\n",
    "#             pad={\"r\": 10, \"t\": 10},\n",
    "             showactive=True,\n",
    "             x=0,\n",
    "             xanchor=\"left\",\n",
    "             y=1.36,\n",
    "             yanchor=\"top\"\n",
    "        )\n",
    "    ])\n",
    "\n",
    "base_stats_fig.update_xaxes(showticklabels=False)\n",
    "base_stats_fig.update_layout(\n",
    "    #height=600, width=600, \n",
    "    title_text=\"Basic Statistics for Covid19\", title_x=0.5, title_font_size=20,\n",
    "                            legend=dict(orientation='h',yanchor='top',y=1.15,xanchor='right',x=1), paper_bgcolor=\"mintcream\",\n",
    "                            xaxis_title=\"Date\", yaxis_title=\"Number of Cases\")\n",
    "base_stats_fig.show()"
   ]
  },
  {
   "cell_type": "code",
   "execution_count": null,
   "id": "0fa5486f",
   "metadata": {},
   "outputs": [],
   "source": [
    "covid_data.head()"
   ]
  },
  {
   "cell_type": "markdown",
   "id": "329e19fd",
   "metadata": {},
   "source": [
    "### Increase in cases"
   ]
  },
  {
   "cell_type": "code",
   "execution_count": null,
   "id": "681f67dd",
   "metadata": {},
   "outputs": [],
   "source": [
    "daily_case_fig = make_subplots(rows=2, cols=2, vertical_spacing=0.05, horizontal_spacing=0.04, # shared_yaxes=True,\n",
    "                           subplot_titles=('Confirmed','Active','Recovered','Deaths'),\n",
    "                            x_title='Dates', y_title='# of Cases',)\n",
    "\n",
    "daily_case_fig.add_trace(go.Bar(x=base_stats['Dates'], y=base_stats['index'].apply(lambda x: base_stats['Confirmed'][x]-base_stats['Confirmed'][x-1:x].sum()),\n",
    "                              name='Confirmed',hovertemplate = '<br><b>Date</b>: %{x}'+'<br><i>Confirmed Count</i>: %{y}',\n",
    "                                marker=dict(color='#118ab2')),row=1, col=1)\n",
    "daily_case_fig.add_trace(go.Scatter(x=base_stats['Dates'], y=base_stats['index'].apply(lambda x: (base_stats['Confirmed'][x-7:x].sum()-base_stats['Confirmed'][x-8:x-1].sum())/7 if x>0 else 0),\n",
    "                             name='7-day moving average', hovertemplate = '<br><b>Date</b>: %{x}'+'<br><i>7-day average</i>: %{y}', showlegend=False,\n",
    "                                    line=dict(dash=\"dash\", color='#149ECC')),row=1, col=1)\n",
    "\n",
    "daily_case_fig.add_trace(go.Bar(x=base_stats['Dates'], y=base_stats['index'].apply(lambda x: base_stats['Active'][x]-base_stats['Active'][x-1:x].sum()), \n",
    "                             name='Active',hovertemplate = '<br><b>Date</b>: %{x}'+'<br><i>Active Count</i>: %{y}',\n",
    "                               marker=dict(color='#ef476f')),row=1, col=2)\n",
    "daily_case_fig.add_trace(go.Scatter(x=base_stats['Dates'], y=base_stats['index'].apply(lambda x: (base_stats['Active'][x-7:x].sum()-base_stats['Active'][x-8:x-1].sum())/7 if x>0 else 0),\n",
    "                             name='7-day moving average', hovertemplate = '<br><b>Date</b>: %{x}'+'<br><i>7-day average</i>: %{y}', showlegend=False,\n",
    "                                    line=dict(dash=\"dash\", color='#F47C98')),row=1, col=2)\n",
    "\n",
    "daily_case_fig.add_trace(go.Bar(x=base_stats['Dates'], y=base_stats['index'].apply(lambda x: base_stats['Recovered'][x]-base_stats['Recovered'][x-1:x].sum()), \n",
    "                              name='Recovered',hovertemplate = '<br><b>Date</b>: %{x}'+'<br><i>Recovered Count</i>: %{y}',\n",
    "                               marker=dict(color='#06d6a0')),row=2, col=1)\n",
    "daily_case_fig.add_trace(go.Scatter(x=base_stats['Dates'], y=base_stats['index'].apply(lambda x: (base_stats['Recovered'][x-7:x].sum()-base_stats['Recovered'][x-8:x-1].sum())/7 if x>0 else 0),\n",
    "                             name='7-day moving average', hovertemplate = '<br><b>Date</b>: %{x}'+'<br><i>7-day average</i>: %{y}', showlegend=False,\n",
    "                                    line=dict(dash=\"dash\", color='#24F9C1')),row=2, col=1)\n",
    "\n",
    "daily_case_fig.add_trace(go.Bar(x=base_stats['Dates'], y=base_stats['index'].apply(lambda x: base_stats['Deaths'][x]-base_stats['Deaths'][x-1:x].sum()), \n",
    "                              name='Deaths',hovertemplate = '<br><b>Date</b>: %{x}'+'<br><i>Death Count</i>: %{y}',\n",
    "                               marker=dict(color='#073b4c')),row=2, col=2)\n",
    "daily_case_fig.add_trace(go.Scatter(x=base_stats['Dates'], y=base_stats['index'].apply(lambda x: (base_stats['Deaths'][x-7:x].sum()-base_stats['Deaths'][x-8:x-1].sum())/7 if x>0 else 0),\n",
    "                             name='7-day moving average', hovertemplate = '<br><b>Date</b>: %{x}'+'<br><i>7-day average</i>: %{y}', line=dict(dash=\"dash\", color='#0C6583')),row=2, col=2)\n",
    "\n",
    "\n",
    "\n",
    "\n",
    "daily_case_fig.update_xaxes(showticklabels=False)\n",
    "daily_case_fig.update_layout(\n",
    "    #height=600, width=1100, \n",
    "    title_text=\"Daily change in cases of Covid19\", title_x=0.5, title_font_size=20,\n",
    "                            legend=dict(orientation='h',yanchor='top',y=1.1,xanchor='right',x=1), paper_bgcolor=\"mintcream\")\n",
    "\n",
    "\n",
    "daily_case_fig.show() "
   ]
  },
  {
   "cell_type": "markdown",
   "id": "31920c25",
   "metadata": {},
   "source": [
    " **Confirmed cases in each Country**"
   ]
  },
  {
   "cell_type": "code",
   "execution_count": null,
   "id": "a8d7d396",
   "metadata": {},
   "outputs": [],
   "source": [
    "Data_per_country = covid_data.groupby([\"Country/Region\"])[\"Confirmed\",\"Active_case\",\"Recovered\",\"Deaths\"].sum().reset_index().sort_values(\"Confirmed\",ascending=False).reset_index(drop=True)\n"
   ]
  },
  {
   "cell_type": "code",
   "execution_count": null,
   "id": "617a8844",
   "metadata": {},
   "outputs": [],
   "source": [
    "headerColor = 'grey'\n",
    "rowEvenColor = 'lightgrey'\n",
    "rowOddColor = 'white'\n",
    "\n",
    "fig = go.Figure(data=[go.Table(\n",
    "  header=dict(\n",
    "    values=['<b>Country</b>','<b>Confirmed Cases</b>'],\n",
    "    line_color='darkslategray',\n",
    "    fill_color=headerColor,\n",
    "    align=['left','center'],\n",
    "      \n",
    "    font=dict(color='white', size=12)\n",
    "  ),\n",
    "  cells=dict(\n",
    "    values=[\n",
    "      Data_per_country['Country/Region'],\n",
    "      Data_per_country['Confirmed'],\n",
    "      ],\n",
    "    line_color='darkslategray',\n",
    "    # 2-D list of colors for alternating rows\n",
    "    fill_color = [[rowOddColor,rowEvenColor,rowOddColor, rowEvenColor,rowOddColor]*len(Data_per_country)],\n",
    "    align = ['left', 'center'],\n",
    "    font = dict(color = 'darkslategray', size = 11)\n",
    "    ))\n",
    "])\n",
    "fig.update_layout(\n",
    "    title='Confirmed Cases In Each Country',\n",
    ")\n",
    "fig.show()"
   ]
  },
  {
   "cell_type": "markdown",
   "id": "61be0954",
   "metadata": {},
   "source": [
    "#### Evolution of coronavirus over time."
   ]
  },
  {
   "cell_type": "code",
   "execution_count": null,
   "id": "fcfb1bda",
   "metadata": {},
   "outputs": [],
   "source": [
    "data_per_country = covid_data.groupby([\"Country/Region\",\"ObservationDate\"])[[\"Confirmed\",\"Active_case\",\"Recovered\",\"Deaths\"]].sum().reset_index().sort_values(\"ObservationDate\",ascending=True).reset_index(drop=True)\n"
   ]
  },
  {
   "cell_type": "code",
   "execution_count": null,
   "id": "45d1bf93",
   "metadata": {},
   "outputs": [],
   "source": [
    "fig = px.choropleth(data_per_country, locations=data_per_country['Country/Region'],\n",
    "                    color=data_per_country['Active_case'],locationmode='country names', \n",
    "                    hover_name=data_per_country['Country/Region'], \n",
    "                    color_continuous_scale=px.colors.sequential.Tealgrn,\n",
    "                    animation_frame=\"ObservationDate\")\n",
    "fig.update_layout(\n",
    "\n",
    "    title='Evolution of active cases In Each Country',\n",
    "    template='plotly_dark'\n",
    ")\n",
    "fig.show()"
   ]
  },
  {
   "cell_type": "code",
   "execution_count": null,
   "id": "b97c7d02",
   "metadata": {},
   "outputs": [],
   "source": [
    "fig = px.choropleth(data_per_country, locations=data_per_country['Country/Region'],\n",
    "                    color=data_per_country['Recovered'],locationmode='country names', \n",
    "                    hover_name=data_per_country['Country/Region'], \n",
    "                    color_continuous_scale=px.colors.sequential.deep,\n",
    "                    animation_frame=\"ObservationDate\")\n",
    "fig.update_layout(\n",
    "    title='Evolution of recovered cases In Each Country',\n",
    ")\n",
    "fig.show()"
   ]
  },
  {
   "cell_type": "code",
   "execution_count": null,
   "id": "eb8c8486",
   "metadata": {},
   "outputs": [],
   "source": [
    "fig = px.choropleth(data_per_country, locations=data_per_country['Country/Region'],\n",
    "                    color=data_per_country['Deaths'],locationmode='country names', \n",
    "                    hover_name=data_per_country['Country/Region'], \n",
    "                    color_continuous_scale=px.colors.sequential.Tealgrn,\n",
    "                    animation_frame=\"ObservationDate\")\n",
    "fig.update_layout(\n",
    "    title='Evolution of deaths In Each Country',\n",
    "    template='plotly_dark'\n",
    ")\n",
    "fig.show()"
   ]
  },
  {
   "cell_type": "code",
   "execution_count": null,
   "id": "7c15fcb9",
   "metadata": {},
   "outputs": [],
   "source": [
    "fig = go.Figure(data=[go.Bar(\n",
    "            x=Data_per_country['Country/Region'][0:10], y=Data_per_country['Confirmed'][0:10],\n",
    "            text=Data_per_country['Confirmed'][0:10],\n",
    "            textposition='auto',\n",
    "            marker_color='pink',\n",
    "            \n",
    "\n",
    "        )])\n",
    "fig.update_layout(\n",
    "    title='Most 10 infected Countries',\n",
    "    xaxis_title=\"Countries\",\n",
    "    yaxis_title=\"Confirmed Cases\",\n",
    "        template='plotly_white'\n",
    "\n",
    ")\n",
    "fig.show()"
   ]
  },
  {
   "cell_type": "markdown",
   "id": "6738a5a4",
   "metadata": {},
   "source": [
    "#### Recorvered cases in each Country "
   ]
  },
  {
   "cell_type": "code",
   "execution_count": null,
   "id": "f3655440",
   "metadata": {},
   "outputs": [],
   "source": [
    "Recovered_per_country = covid_data.groupby([\"Country/Region\"])[\"Recovered\"].sum().reset_index().sort_values(\"Recovered\",ascending=False).reset_index(drop=True)"
   ]
  },
  {
   "cell_type": "code",
   "execution_count": null,
   "id": "892c240c",
   "metadata": {},
   "outputs": [],
   "source": [
    "headerColor = 'grey'\n",
    "rowEvenColor = 'lightgrey'\n",
    "rowOddColor = 'white'\n",
    "\n",
    "fig = go.Figure(data=[go.Table(\n",
    "  header=dict(\n",
    "    values=['<b>Country</b>','<b>Recovered Cases</b>'],\n",
    "    line_color='darkslategray',\n",
    "    fill_color=headerColor,\n",
    "    align=['left','center'],\n",
    "    font=dict(color='white', size=12)\n",
    "  ),\n",
    "  cells=dict(\n",
    "    values=[\n",
    "      Recovered_per_country['Country/Region'],\n",
    "      Recovered_per_country['Recovered'],\n",
    "      ],\n",
    "    line_color='darkslategray',\n",
    "    # 2-D list of colors for alternating rows\n",
    "    fill_color = [[rowOddColor,rowEvenColor,rowOddColor, rowEvenColor,rowOddColor]*len(Data_per_country)],\n",
    "    align = ['left', 'center'],\n",
    "    font = dict(color = 'darkslategray', size = 11)\n",
    "    ))\n",
    "])\n",
    "fig.update_layout(\n",
    "    title='Recovered Cases In Each Country',\n",
    ")\n",
    "fig.show()\n"
   ]
  },
  {
   "cell_type": "code",
   "execution_count": null,
   "id": "80918b12",
   "metadata": {},
   "outputs": [],
   "source": [
    "fig = px.pie(Recovered_per_country, values=Recovered_per_country['Recovered'], names=Recovered_per_country['Country/Region'],\n",
    "             title='Recovered cases',\n",
    "            )\n",
    "fig.update_traces(textposition='inside', textinfo='percent+label')\n",
    "fig.update_layout(\n",
    "    template='plotly_white'\n",
    ")\n",
    "fig.show()"
   ]
  },
  {
   "cell_type": "code",
   "execution_count": null,
   "id": "48625bb6",
   "metadata": {},
   "outputs": [],
   "source": [
    "fig = go.Figure(data=[go.Bar(\n",
    "            x=Recovered_per_country['Country/Region'][0:10], y=Recovered_per_country['Recovered'][0:10],\n",
    "            text=Recovered_per_country['Recovered'][0:10],\n",
    "            textposition='auto',\n",
    "            marker_color='lavender',\n",
    "\n",
    "        )])\n",
    "fig.update_layout(\n",
    "    title='Most 10 infected Countries',\n",
    "    xaxis_title=\"Countries\",\n",
    "    yaxis_title=\"Recovered Cases\",\n",
    "    template='plotly_white'\n",
    ")\n",
    "fig.show()"
   ]
  },
  {
   "cell_type": "markdown",
   "id": "fee0bf1b",
   "metadata": {},
   "source": [
    "#### Active cases in each Country"
   ]
  },
  {
   "cell_type": "code",
   "execution_count": null,
   "id": "a955cdfa",
   "metadata": {},
   "outputs": [],
   "source": [
    "Active_per_country = covid_data.groupby([\"Country/Region\"])[\"Active_case\"].sum().reset_index().sort_values(\"Active_case\",ascending=False).reset_index(drop=True)\n"
   ]
  },
  {
   "cell_type": "code",
   "execution_count": null,
   "id": "eee1f5de",
   "metadata": {},
   "outputs": [],
   "source": [
    "headerColor = 'grey'\n",
    "rowEvenColor = 'lightgrey'\n",
    "rowOddColor = 'white'\n",
    "\n",
    "fig = go.Figure(data=[go.Table(\n",
    "  header=dict(\n",
    "    values=['<b>Country</b>','<b>Active Cases</b>'],\n",
    "    line_color='darkslategray',\n",
    "    fill_color=headerColor,\n",
    "    align=['left','center'],\n",
    "    font=dict(color='white', size=12)\n",
    "  ),\n",
    "  cells=dict(\n",
    "    values=[\n",
    "      Active_per_country['Country/Region'],\n",
    "      Active_per_country['Active_case'],\n",
    "      ],\n",
    "    line_color='darkslategray',\n",
    "    # 2-D list of colors for alternating rows\n",
    "    fill_color = [[rowOddColor,rowEvenColor,rowOddColor, rowEvenColor,rowOddColor]*len(Data_per_country)],\n",
    "    align = ['left', 'center'],\n",
    "    font = dict(color = 'darkslategray', size = 11)\n",
    "    ))\n",
    "])\n",
    "fig.update_layout(\n",
    "    title='Active Cases In Each Country',\n",
    ")\n",
    "fig.show()"
   ]
  },
  {
   "cell_type": "code",
   "execution_count": null,
   "id": "6de974e1",
   "metadata": {},
   "outputs": [],
   "source": [
    "fig = go.Figure(data=[go.Bar(\n",
    "            x=Active_per_country['Country/Region'][0:10], y=Active_per_country['Active_case'][0:10],\n",
    "            text=Active_per_country['Active_case'][0:10],\n",
    "           \n",
    "        )])\n",
    "fig.update_layout(\n",
    "    title='Most 10 infected Countries',\n",
    "    xaxis_title=\"Countries\",\n",
    "    yaxis_title=\"Active Cases\",\n",
    "    template='plotly_white'\n",
    ")\n",
    "fig.show()\n"
   ]
  },
  {
   "cell_type": "markdown",
   "id": "e5be068b",
   "metadata": {},
   "source": [
    "#### Deaths cases in each Country"
   ]
  },
  {
   "cell_type": "code",
   "execution_count": null,
   "id": "bd90eb98",
   "metadata": {},
   "outputs": [],
   "source": [
    "Deaths_per_country = covid_data.groupby([\"Country/Region\"])[\"Deaths\"].sum().reset_index().sort_values(\"Deaths\",ascending=False).reset_index(drop=True)"
   ]
  },
  {
   "cell_type": "code",
   "execution_count": null,
   "id": "9ce6c497",
   "metadata": {},
   "outputs": [],
   "source": [
    "headerColor = 'grey'\n",
    "rowEvenColor = 'lightgrey'\n",
    "rowOddColor = 'white'\n",
    "\n",
    "fig = go.Figure(data=[go.Table(\n",
    "  header=dict(\n",
    "    values=['<b>Country</b>','<b>Deaths</b>'],\n",
    "    line_color='darkslategray',\n",
    "    fill_color=headerColor,\n",
    "    align=['left','center'],\n",
    "    font=dict(color='white', size=12)\n",
    "  ),\n",
    "  cells=dict(\n",
    "    values=[\n",
    "      Deaths_per_country['Country/Region'],\n",
    "      Deaths_per_country['Deaths'],\n",
    "      ],\n",
    "    line_color='darkslategray',\n",
    "    # 2-D list of colors for alternating rows\n",
    "    fill_color = [[rowOddColor,rowEvenColor,rowOddColor, rowEvenColor,rowOddColor]*len(Data_per_country)],\n",
    "    align = ['left', 'center'],\n",
    "    font = dict(color = 'darkslategray', size = 11)\n",
    "    ))\n",
    "])\n",
    "fig.update_layout(\n",
    "    title='Deaths In Each Country',\n",
    ")\n",
    "fig.show()"
   ]
  },
  {
   "cell_type": "code",
   "execution_count": null,
   "id": "20eabc13",
   "metadata": {},
   "outputs": [],
   "source": [
    "fig = go.Figure(data=[go.Bar(\n",
    "            x=Deaths_per_country['Country/Region'][0:10], y=Deaths_per_country['Deaths'][0:10],\n",
    "            text=Deaths_per_country['Deaths'][0:10],\n",
    "            textposition='auto',\n",
    "            marker_color=' green'\n",
    "\n",
    "        )])\n",
    "fig.update_layout(\n",
    "    title='Most 10 infected Countries',\n",
    "    xaxis_title=\"Countries\",\n",
    "    yaxis_title=\"Deaths\",\n",
    "        template='plotly_white'\n",
    "\n",
    ")\n",
    "fig.show()\n"
   ]
  },
  {
   "cell_type": "markdown",
   "id": "a945144c",
   "metadata": {},
   "source": [
    "### Predictions"
   ]
  },
  {
   "cell_type": "code",
   "execution_count": null,
   "id": "84ffdee4",
   "metadata": {},
   "outputs": [],
   "source": [
    "base_stats_inc_df = pd.DataFrame(columns=['Index', 'Dates', 'Confirmed', 'Deaths', 'Recovered', 'Active', 'Daily Inc.'])\n",
    "base_stats_inc_df[['Index', 'Dates', 'Confirmed', 'Deaths', 'Recovered', 'Active']] = base_stats[['index', 'Dates', 'Confirmed', 'Deaths', 'Recovered', 'Active']]\n",
    "base_stats_inc_df['Daily Inc.'] = base_stats['index'].apply(lambda x: base_stats['Confirmed'][x]-base_stats['Confirmed'][x-1:x].sum())"
   ]
  },
  {
   "cell_type": "code",
   "execution_count": null,
   "id": "1187b8f1",
   "metadata": {},
   "outputs": [],
   "source": [
    "days = np.array(base_stats_inc_df[['Index']]).reshape(-1, 1)\n",
    "days_ex = []\n",
    "for i in range(len(days)+30):\n",
    "    days_ex = days_ex+[[i]]"
   ]
  },
  {
   "cell_type": "code",
   "execution_count": null,
   "id": "10063486",
   "metadata": {},
   "outputs": [],
   "source": [
    "prediction_df = pd.DataFrame(columns=['Index', 'Confirmed Pred', 'Deaths Pred', 'Recovered Pred', 'Active Pred', 'Daily Inc. Pred'])\n",
    "prediction_df['Index'] = list(flatten(days_ex))"
   ]
  },
  {
   "cell_type": "code",
   "execution_count": null,
   "id": "247ddf9a",
   "metadata": {},
   "outputs": [],
   "source": [
    "for col in base_stats_inc_df.columns[2:]:\n",
    "\n",
    "    count = np.array(base_stats_inc_df[[col]]).reshape(-1, 1)\n",
    "\n",
    "    X_train_confirmed, X_test_confirmed, y_train_confirmed, y_test_confirmed = train_test_split(\n",
    "                                                        days[50:], count[50:], \n",
    "                                                        test_size=0.05, shuffle=False)\n",
    "\n",
    "    MAE, RSE, R2 = [], [], []\n",
    "    for j in range(1,10):\n",
    "        #creating the model\n",
    "        poly = PolynomialFeatures(degree=j)\n",
    "        train_x_poly = poly.fit_transform(X_train_confirmed)\n",
    "        \n",
    "        regr_poly = linear_model.LinearRegression()\n",
    "        regr_poly.fit(train_x_poly, y_train_confirmed)\n",
    "        \n",
    "        y_pred_poly = regr_poly.predict(poly.fit_transform(X_test_confirmed))\n",
    "        MAE.append(np.mean(np.absolute(y_pred_poly - y_test_confirmed)))\n",
    "        RSE.append(np.mean((y_pred_poly - list(flatten(y_test_confirmed))) ** 2))\n",
    "        R2.append(r2_score(y_pred_poly, list(flatten(y_test_confirmed))))\n",
    "        \n",
    "    deg = RSE.index(min(RSE))+1\n",
    "    #print(\"best deg for column {} is {}\".format(col, deg))\n",
    "\n",
    "    poly = PolynomialFeatures(degree=deg)\n",
    "    train_x_poly = poly.fit_transform(X_train_confirmed)\n",
    "\n",
    "    regr_poly = linear_model.LinearRegression()\n",
    "    regr_poly.fit(train_x_poly, y_train_confirmed)\n",
    "    col_name = col+' Pred'\n",
    "    prediction_df[col_name] = list(flatten(regr_poly.predict(poly.fit_transform(days_ex))))"
   ]
  },
  {
   "cell_type": "code",
   "execution_count": null,
   "id": "83cf8bb4",
   "metadata": {},
   "outputs": [],
   "source": [
    "prediction_fig = go.Figure()\n",
    "pred_dict = {\n",
    "  \"Confirmed\": [\"#118ab2\", 'Confirmed', 'Predicted Confirmed','#149ECC'],\n",
    "  \"Active\": [\"#ef476f\", 'Deaths', 'Predicted Deaths', '#F47C98'],\n",
    "  \"Recovered\": [\"#06d6a0\", 'Recovered', 'Predicted Recovered','#24F9C1'],\n",
    "  \"Deaths\": [\"#073b4c\", 'Active', 'Predicted Active','#0C6583'],\n",
    "  \"Daily Inc.\": [\"black\", 'Daily Inc.', 'Predicted Daily Inc.','grey']\n",
    "    }\n",
    "\n",
    "for z in base_stats_inc_df.columns[2:]:\n",
    "    \n",
    "    z_pred = z+' Pred'\n",
    "    prediction_fig.add_trace(go.Scatter(x=list(flatten(days)), y=base_stats_inc_df[z],\n",
    "                                       line=dict(color=pred_dict[z][0]), name = pred_dict[z][1],\n",
    "                                       hovertemplate ='<br><b>Day number</b>: %{x}'+'<br><i>No.of cases </i>:'+'%{y}'))\n",
    "    \n",
    "    prediction_fig.add_trace(go.Scatter(x=list(flatten(days_ex))[50:], y=prediction_df[z_pred][50:],\n",
    "                                       line=dict(dash=\"dash\", color='black'), visible=False, name = pred_dict[z][2],\n",
    "                                       hovertemplate ='<br><b>Day number</b>: %{x}'+'<br><i>Predicted no.of cases </i>:'+'%{y}'))\n",
    "\n",
    "    \n",
    "    \n",
    "    \n",
    "prediction_fig.update_layout(\n",
    "    updatemenus=[\n",
    "        dict(\n",
    "        buttons=list(\n",
    "            [dict(label = 'Confirmed',\n",
    "                  method = 'update',\n",
    "                  args = [{'visible': [True, True, False, False, False, False, False, False, False, False]},\n",
    "                          {'title': 'Confirmed Cases',\n",
    "                           'showlegend':True}]),\n",
    "             dict(label = 'Deaths',\n",
    "                  method = 'update',\n",
    "                  args = [{'visible': [False, False, True, True, False, False, False, False, False, False]},\n",
    "                          {'title': 'Deaths Cases',\n",
    "                           'showlegend':True}]),\n",
    "             dict(label = 'Recovered',\n",
    "                  method = 'update',\n",
    "                  args = [{'visible': [False, False, False, False, True, True, False, False, False, False]},\n",
    "                          {'title': 'Recovered Cases',\n",
    "                           'showlegend':True}]),\n",
    "             dict(label = 'Active',\n",
    "                  method = 'update',\n",
    "                  args = [{'visible': [False, False, False, False, False, False, True, True, False, False]},\n",
    "                          {'title': 'Active Cases',\n",
    "                           'showlegend':True}]),\n",
    "             dict(label = 'Daily Inc.',\n",
    "                  method = 'update',\n",
    "                  args = [{'visible': [False, False, False, False, False, False, False, False, True, True]},\n",
    "                          {'title': 'Daily Inc. Cases',\n",
    "                           'showlegend':True}]),\n",
    "            ]),\n",
    "             type = \"buttons\",\n",
    "             direction=\"down\",\n",
    "#             pad={\"r\": 10, \"t\": 40},\n",
    "             showactive=True,\n",
    "#              x=1.01,\n",
    "#              xanchor=\"left\",\n",
    "             y=1.1,\n",
    "             yanchor=\"top\"\n",
    "        )\n",
    "    ])\n",
    "\n",
    "\n",
    "prediction_fig.update_xaxes(showticklabels=False)\n",
    "prediction_fig.update_layout(\n",
    "    #height=500, width=1100, \n",
    "    title_text=\"Prediction for Covid19 Cases\", title_x=0.5, title_font_size=20,\n",
    "                            legend=dict(orientation='h',yanchor='top',y=1.12,xanchor='right',x=1), paper_bgcolor=\"mintcream\",\n",
    "                            xaxis_title=\"Number of Days <br> (Click on the buttons at the left to see the predictions)\", yaxis_title=\"Count\")\n",
    "prediction_fig.show()"
   ]
  },
  {
   "cell_type": "markdown",
   "id": "6540da90",
   "metadata": {},
   "source": [
    "# <span style='color:navy;'> Coronavirus in my country India </span>"
   ]
  },
  {
   "cell_type": "code",
   "execution_count": null,
   "id": "e601b6f9",
   "metadata": {},
   "outputs": [],
   "source": [
    "Data_india = covid_data [(covid_data['Country/Region'] == 'India') ].reset_index(drop=True)\n",
    "Data_india.head()"
   ]
  },
  {
   "cell_type": "code",
   "execution_count": null,
   "id": "25ad7a59",
   "metadata": {},
   "outputs": [],
   "source": [
    "fig = go.Figure(go.Bar(\n",
    "            x=Data_india['ObservationDate'],\n",
    "            y=Data_india['Active_case'],\n",
    "    marker_color='rgb(13,48,100)'\n",
    "           ))\n",
    "fig.update_layout(\n",
    "    title='Active cases In Each Day',\n",
    "    template='plotly_white',\n",
    "     xaxis_title=\"Active cases\",\n",
    "    yaxis_title=\"Days\",\n",
    ")\n",
    "fig.show()"
   ]
  },
  {
   "cell_type": "code",
   "execution_count": null,
   "id": "84c07479",
   "metadata": {},
   "outputs": [],
   "source": [
    "fig = go.Figure(go.Bar(\n",
    "            x=Data_india['ObservationDate'],\n",
    "            y=Data_india['Active_case'],\n",
    "    marker_color='rgb(13,48,100)'\n",
    "           ))\n",
    "fig.update_layout(\n",
    "    title='Active cases In Each Day',\n",
    "    template='plotly_white',\n",
    "     xaxis_title=\"Active cases\",\n",
    "    yaxis_title=\"Days\",\n",
    ")\n",
    "fig.show()"
   ]
  },
  {
   "cell_type": "code",
   "execution_count": null,
   "id": "3c34439f",
   "metadata": {},
   "outputs": [],
   "source": [
    "fig = go.Figure(go.Bar(\n",
    "            x=Data_india['ObservationDate'],\n",
    "            y=Data_india['Recovered'],\n",
    "    marker_color='rgb(13,48,100)'\n",
    "           ))\n",
    "fig.update_layout(\n",
    "    title='Recovered cases In Each Day',\n",
    "    template='plotly_white',\n",
    "     xaxis_title=\"Recovered cases\",\n",
    "    yaxis_title=\"Days\",\n",
    ")\n",
    "fig.show()"
   ]
  },
  {
   "cell_type": "code",
   "execution_count": null,
   "id": "13f83097",
   "metadata": {},
   "outputs": [],
   "source": [
    "fig = go.Figure(go.Bar(\n",
    "            x=Data_india['ObservationDate'],\n",
    "            y=Data_india['Deaths'],\n",
    "    marker_color='rgb(13,48,100)'\n",
    "           ))\n",
    "fig.update_layout(\n",
    "    title='Deaths In Each Day',\n",
    "    template='plotly_white',\n",
    "     xaxis_title=\"Deaths\",\n",
    "    yaxis_title=\"Days\",\n",
    ")\n",
    "fig.show()"
   ]
  },
  {
   "cell_type": "markdown",
   "id": "82304f9d",
   "metadata": {},
   "source": [
    "#### Get Last Update"
   ]
  },
  {
   "cell_type": "code",
   "execution_count": null,
   "id": "c06e71cb",
   "metadata": {},
   "outputs": [],
   "source": [
    "Data_india_last = Data_india[Data_india['ObservationDate'] == max(Data_india['ObservationDate'])].reset_index()\n",
    "Data_india_last"
   ]
  },
  {
   "cell_type": "code",
   "execution_count": null,
   "id": "b77a37c1",
   "metadata": {},
   "outputs": [],
   "source": [
    "colors = ['rgb(2,58,88)','rgb(65,171,93)', 'rgb(127,0,0)']\n",
    "labels = [\"Active cases\",\"Recovered\",\"Deaths\"]\n",
    "values = Data_india_last.loc[0, [\"Active_case\",\"Recovered\",\"Deaths\"]]\n",
    "\n",
    "fig = go.Figure(data=[go.Pie(labels=labels,\n",
    "                             values=values)])\n",
    "fig.update_traces(hoverinfo='label+percent', textinfo='value', textfont_size=20,\n",
    "                  marker=dict(colors=colors, line=dict(color='#000000', width=2)))\n",
    "fig.show()"
   ]
  },
  {
   "cell_type": "markdown",
   "id": "7714797a",
   "metadata": {},
   "source": [
    "<a id='chi'></a>\n",
    "#  <font color='red'> **Coronavirus in China** </font>\n"
   ]
  },
  {
   "cell_type": "code",
   "execution_count": null,
   "id": "2f7168d9",
   "metadata": {},
   "outputs": [],
   "source": [
    "Data_China = covid_data [(covid_data['Country/Region'] == 'China') ].reset_index(drop=True)\n",
    "Data_China.head()"
   ]
  },
  {
   "cell_type": "markdown",
   "id": "6832b5ab",
   "metadata": {},
   "source": [
    "#### Get last update in china"
   ]
  },
  {
   "cell_type": "code",
   "execution_count": null,
   "id": "d685c05f",
   "metadata": {},
   "outputs": [],
   "source": [
    "Data_china_last = Data_China[Data_China['ObservationDate'] == max(Data_China['ObservationDate'])].reset_index()\n",
    "Data_china_last.head()"
   ]
  },
  {
   "cell_type": "markdown",
   "id": "53a701d9",
   "metadata": {},
   "source": [
    "#### Confirmed cases in every Province/State in china"
   ]
  },
  {
   "cell_type": "code",
   "execution_count": null,
   "id": "754a9199",
   "metadata": {},
   "outputs": [],
   "source": [
    "Data_china_per_state= Data_china_last.groupby([\"Province/State\"])[\"Confirmed\",\"Active_case\",\"Recovered\",\"Deaths\"].sum().reset_index().sort_values(\"Confirmed\",ascending=False).reset_index(drop=True)\n"
   ]
  },
  {
   "cell_type": "code",
   "execution_count": null,
   "id": "fa327b4a",
   "metadata": {},
   "outputs": [],
   "source": [
    "fig = px.pie(Data_china_per_state, values=Data_china_per_state['Confirmed'], names=Data_china_per_state['Province/State'],\n",
    "             title='Confirmed cases in China',\n",
    "            hole=.2)\n",
    "fig.update_traces(textposition='inside', textinfo='percent+label')\n",
    "fig.show()"
   ]
  },
  {
   "cell_type": "code",
   "execution_count": null,
   "id": "6b160104",
   "metadata": {},
   "outputs": [],
   "source": [
    "fig = go.Figure(go.Bar(\n",
    "            x=Data_china_per_state['Active_case'],\n",
    "            y=Data_china_per_state['Province/State'],\n",
    "            orientation='h',\n",
    "            marker_color='#DC3912',))\n",
    "fig.update_layout(\n",
    "    title='Active Cases In Each Province/State',\n",
    "    template='plotly_white',\n",
    "    xaxis_title=\"Active Cases\",\n",
    "    yaxis_title=\"Province/State\",\n",
    ")\n",
    "fig.show()"
   ]
  },
  {
   "cell_type": "code",
   "execution_count": null,
   "id": "85721372",
   "metadata": {},
   "outputs": [],
   "source": [
    "fig = go.Figure(go.Bar(\n",
    "            x=Data_china_per_state['Recovered'],\n",
    "            y=Data_china_per_state['Province/State'],\n",
    "            orientation='h',\n",
    "            marker_color='green',))\n",
    "fig.update_layout(\n",
    "    title='Active Cases In Each Province/State',\n",
    "    template='plotly_white',\n",
    "    xaxis_title=\"Recovered Cases\",\n",
    "    yaxis_title=\"Province/State\",\n",
    ")\n",
    "fig.show()"
   ]
  },
  {
   "cell_type": "code",
   "execution_count": null,
   "id": "729a2004",
   "metadata": {},
   "outputs": [],
   "source": [
    "fig = go.Figure(go.Bar(\n",
    "            x=Data_china_per_state['Deaths'],\n",
    "            y=Data_china_per_state['Province/State'],\n",
    "            orientation='h',\n",
    "            marker_color='black',))\n",
    "fig.update_layout(\n",
    "    title='Deaths In Each Province/State',\n",
    "    template='plotly_white',\n",
    "    xaxis_title=\"Deaths\",\n",
    "    yaxis_title=\"Province/State\",\n",
    ")\n",
    "fig.show()"
   ]
  },
  {
   "cell_type": "markdown",
   "id": "4032f90b",
   "metadata": {},
   "source": [
    "#### Get total cases in China"
   ]
  },
  {
   "cell_type": "code",
   "execution_count": null,
   "id": "70ee7a1b",
   "metadata": {},
   "outputs": [],
   "source": [
    "Data_china_total= Data_china_last.groupby([\"Country/Region\"])[\"Confirmed\",\"Deaths\",\"Recovered\",\"Active_case\"].sum().reset_index().reset_index(drop=True)\n"
   ]
  },
  {
   "cell_type": "code",
   "execution_count": null,
   "id": "44e185a6",
   "metadata": {},
   "outputs": [],
   "source": [
    "labels = [\"Active cases\",\"Recovered\",\"Deaths\"]\n",
    "values = Data_china_total.loc[0, [\"Active_case\",\"Recovered\",\"Deaths\"]]\n",
    "df = px.data.tips()\n",
    "fig = px.pie(Data_china_total, values=values, names=labels, color_discrete_sequence=['green','royalblue','darkblue'], hole=0.5)\n",
    "fig.update_layout(\n",
    "    title='Total cases in China : '+str(Data_china_total[\"Confirmed\"][0]),\n",
    ")\n",
    "fig.show()"
   ]
  },
  {
   "cell_type": "markdown",
   "id": "ac8131eb",
   "metadata": {},
   "source": [
    "<a id='us'></a>\n",
    "#  <font color='blue'> **Coronavirus in United States** </font>\n"
   ]
  },
  {
   "cell_type": "code",
   "execution_count": null,
   "id": "780b67e2",
   "metadata": {},
   "outputs": [],
   "source": [
    "Data_US = covid_data [(covid_data['Country/Region'] == 'US') ].reset_index(drop=True)\n"
   ]
  },
  {
   "cell_type": "markdown",
   "id": "3bb1fbba",
   "metadata": {},
   "source": [
    "#### Get last update in US"
   ]
  },
  {
   "cell_type": "code",
   "execution_count": null,
   "id": "065e9a23",
   "metadata": {},
   "outputs": [],
   "source": [
    "Data_us_last = Data_US[Data_US['ObservationDate'] == max(Data_US['ObservationDate'])].reset_index()"
   ]
  },
  {
   "cell_type": "code",
   "execution_count": null,
   "id": "be5fddd4",
   "metadata": {},
   "outputs": [],
   "source": [
    "Data_us_total= Data_us_last.groupby([\"Country/Region\"])[\"Confirmed\",\"Deaths\",\"Recovered\",\"Active_case\"].sum().reset_index().reset_index(drop=True)"
   ]
  },
  {
   "cell_type": "code",
   "execution_count": null,
   "id": "035fbf5b",
   "metadata": {},
   "outputs": [],
   "source": [
    "labels = [\"Active cases\",\"Recovered\",\"Deaths\"]\n",
    "values = Data_us_total.loc[0, [\"Active_case\",\"Recovered\",\"Deaths\"]]\n",
    "df = px.data.tips()\n",
    "fig = px.pie(Data_us_total, values=values, names=labels, color_discrete_sequence=['royalblue','darkblue','green'], hole=0.5)\n",
    "fig.update_layout(\n",
    "    title='Total cases in United States : '+str(Data_us_total[\"Confirmed\"][0]),\n",
    ")\n",
    "fig.show()"
   ]
  },
  {
   "cell_type": "markdown",
   "id": "b2c631d9",
   "metadata": {},
   "source": [
    "#### Cases in every Province/State in US"
   ]
  },
  {
   "cell_type": "code",
   "execution_count": null,
   "id": "45e7b13e",
   "metadata": {},
   "outputs": [],
   "source": [
    "Data_us_per_state= Data_us_last.groupby([\"Province/State\"])[\"Confirmed\",\"Active_case\",\"Deaths\"].sum().reset_index().sort_values(\"Confirmed\",ascending=False).reset_index(drop=True)"
   ]
  },
  {
   "cell_type": "code",
   "execution_count": null,
   "id": "da6cbe45",
   "metadata": {},
   "outputs": [],
   "source": [
    "fig = px.pie(Data_us_per_state, values=Data_us_per_state['Confirmed'], names=Data_us_per_state['Province/State'],\n",
    "             title='Confirmed cases in United States',\n",
    "            hole=.2)\n",
    "fig.update_traces(textposition='inside', textinfo='percent+label')\n",
    "fig.show()"
   ]
  },
  {
   "cell_type": "code",
   "execution_count": null,
   "id": "262cfc2e",
   "metadata": {},
   "outputs": [],
   "source": [
    "fig = px.pie(Data_us_per_state, values=Data_us_per_state['Active_case'], names=Data_us_per_state['Province/State'],\n",
    "             title='Active cases in United States',\n",
    "            hole=.2)\n",
    "fig.update_traces(textposition='inside', textinfo='percent+label')\n",
    "fig.show()"
   ]
  },
  {
   "cell_type": "code",
   "execution_count": null,
   "id": "75f16e62",
   "metadata": {},
   "outputs": [],
   "source": [
    "fig = px.pie(Data_us_per_state, values=Data_us_per_state['Deaths'], names=Data_us_per_state['Province/State'],\n",
    "             title='Deaths in United States',\n",
    "            hole=.2)\n",
    "fig.update_traces(textposition='inside', textinfo='percent+label')\n",
    "fig.show()"
   ]
  },
  {
   "cell_type": "markdown",
   "id": "ccbba275",
   "metadata": {},
   "source": [
    "<a id='spa'></a>\n",
    "#  <font color='purple'> **Coronavirus in Spain** </font>"
   ]
  },
  {
   "cell_type": "code",
   "execution_count": null,
   "id": "e48e277d",
   "metadata": {},
   "outputs": [],
   "source": [
    "Data_Spain = covid_data [(covid_data['Country/Region'] == 'Spain') ].reset_index(drop=True)\n"
   ]
  },
  {
   "cell_type": "code",
   "execution_count": null,
   "id": "6aa8e7a1",
   "metadata": {},
   "outputs": [],
   "source": [
    "Data_spain = Data_Spain[Data_Spain['ObservationDate'] == max(Data_Spain['ObservationDate'])].reset_index()\n",
    "Data_spain_last= Data_spain.groupby([\"Country/Region\"])[\"Confirmed\",\"Deaths\",\"Recovered\",\"Active_case\"].sum().reset_index().reset_index(drop=True)\n"
   ]
  },
  {
   "cell_type": "code",
   "execution_count": null,
   "id": "2149aa78",
   "metadata": {},
   "outputs": [],
   "source": [
    "labels = [\"Active cases\",\"Recovered\",\"Deaths\"]\n",
    "values = Data_spain_last.loc[0, [\"Active_case\",\"Recovered\",\"Deaths\"]]\n",
    "df = px.data.tips()\n",
    "fig = px.pie(Data_spain_last, values=values, names=labels, color_discrete_sequence=['royalblue','green','darkblue'], hole=0.5)\n",
    "fig.update_layout(\n",
    "    title='Total cases in Spain : '+str(Data_spain_last[\"Confirmed\"][0]),\n",
    ")\n",
    "fig.show()"
   ]
  },
  {
   "cell_type": "code",
   "execution_count": null,
   "id": "c11b816e",
   "metadata": {},
   "outputs": [],
   "source": [
    "Data_spain_per_state= Data_spain.groupby([\"Province/State\"])[\"Confirmed\",\"Deaths\",\"Recovered\",\"Active_case\"].sum().reset_index().sort_values(\"Confirmed\",ascending=False).reset_index(drop=True)"
   ]
  },
  {
   "cell_type": "code",
   "execution_count": null,
   "id": "0c7399b9",
   "metadata": {},
   "outputs": [],
   "source": [
    "\n",
    "fig = px.treemap(Data_spain_per_state, path=['Province/State'], values=Data_spain_per_state['Confirmed'], height=700,\n",
    "                 title='Confirmed cases in Spain', color_discrete_sequence = px.colors.qualitative.Dark2)\n",
    "fig.data[0].textinfo = 'label+text+value'\n",
    "fig.show()"
   ]
  },
  {
   "cell_type": "code",
   "execution_count": null,
   "id": "393b5b44",
   "metadata": {},
   "outputs": [],
   "source": [
    "fig = px.treemap(Data_spain_per_state, path=['Province/State'], values=Data_spain_per_state['Recovered'], height=700,\n",
    "                 title='Recovered cases in Spain', color_discrete_sequence = px.colors.qualitative.Dark2)\n",
    "fig.data[0].textinfo = 'label+text+value'\n",
    "fig.show()"
   ]
  },
  {
   "cell_type": "code",
   "execution_count": null,
   "id": "1575d250",
   "metadata": {},
   "outputs": [],
   "source": [
    "\n",
    "fig = px.treemap(Data_spain_per_state, path=['Province/State'], values=Data_spain_per_state['Active_case'], height=700,\n",
    "                 title='Active cases in Spain', color_discrete_sequence = px.colors.sequential.deep)\n",
    "fig.data[0].textinfo = 'label+text+value'\n",
    "fig.show()"
   ]
  },
  {
   "cell_type": "code",
   "execution_count": null,
   "id": "30415c6a",
   "metadata": {},
   "outputs": [],
   "source": [
    "fig = px.treemap(Data_spain_per_state, path=['Province/State'], values=Data_spain_per_state['Deaths'], height=700,\n",
    "                 title='Deaths in Spain', color_discrete_sequence = px.colors.sequential.deep)\n",
    "fig.data[0].textinfo = 'label+text+value'\n",
    "fig.show()"
   ]
  },
  {
   "cell_type": "markdown",
   "id": "8dc29705",
   "metadata": {},
   "source": [
    "<a id='usw'></a>\n",
    "\n",
    "#  <font color='lylac'> **US X The rest of the word** </font>\n"
   ]
  },
  {
   "cell_type": "code",
   "execution_count": null,
   "id": "edfc9150",
   "metadata": {},
   "outputs": [],
   "source": [
    "Data_US_op= Data_US.groupby([\"ObservationDate\",\"Country/Region\"])[\"Confirmed\",\"Deaths\",\"Recovered\",\"Active_case\"].sum().reset_index().reset_index(drop=True)"
   ]
  },
  {
   "cell_type": "code",
   "execution_count": null,
   "id": "27fcf66f",
   "metadata": {},
   "outputs": [],
   "source": [
    "Data_Word = covid_data [(covid_data['Country/Region'] != 'US') ].reset_index(drop=True)\n",
    "Data_WORD_last = Data_Word[Data_Word['ObservationDate'] == max(Data_Word['ObservationDate'])].reset_index()\n",
    "Data_us_total= Data_us_last.groupby([\"Country/Region\"])[\"Confirmed\",\"Deaths\",\"Recovered\",\"Active_case\"].sum().reset_index().reset_index(drop=True)\n",
    "Data_word_total= Data_WORD_last.groupby([\"ObservationDate\"])[\"Confirmed\",\"Deaths\",\"Recovered\",\"Active_case\"].sum().reset_index().reset_index(drop=True)\n",
    "\n",
    "Data_Word_op= Data_Word.groupby([\"ObservationDate\"])[\"Confirmed\",\"Deaths\",\"Recovered\",\"Active_case\"].sum().reset_index().reset_index(drop=True)"
   ]
  },
  {
   "cell_type": "code",
   "execution_count": null,
   "id": "b6427791",
   "metadata": {},
   "outputs": [],
   "source": [
    "fig = go.Figure()\n",
    "fig.add_trace(go.Scatter(x=Data_US_op.index, y=Data_US_op['Confirmed'],\n",
    "                    mode='lines',\n",
    "                    name='Confirmed cases in US'))\n",
    "\n",
    "\n",
    "fig.add_trace(go.Scatter(x=Data_Word_op.index, y=Data_Word_op['Confirmed'],\n",
    "                    mode='lines',\n",
    "                    name='Confirmed cases in The Rest Of The Word'))\n",
    "\n",
    "fig.update_layout(\n",
    "    title='Evolution of Confirmed cases over time in US and The Rest Of The Word',\n",
    "        template='plotly_white'\n",
    "\n",
    ")\n",
    "\n",
    "fig.show()\n"
   ]
  },
  {
   "cell_type": "code",
   "execution_count": null,
   "id": "bf1c30f5",
   "metadata": {},
   "outputs": [],
   "source": [
    "fig = go.Figure()\n",
    "fig.add_trace(go.Scatter(x=Data_US_op.index, y=Data_US_op['Active_case'],\n",
    "                    mode='lines',\n",
    "                    name='Active cases in US'))\n",
    "\n",
    "\n",
    "fig.add_trace(go.Scatter(x=Data_Word_op.index, y=Data_Word_op['Active_case'],\n",
    "                    mode='lines',\n",
    "                    name='Active cases in The Rest Of The Word'))\n",
    "\n",
    "fig.update_layout(\n",
    "    title='Evolution of Active cases over time in US and The Rest Of The Word',\n",
    "        template='plotly_dark'\n",
    "\n",
    ")\n",
    "\n",
    "fig.show()\n"
   ]
  },
  {
   "cell_type": "code",
   "execution_count": null,
   "id": "5cb3d553",
   "metadata": {},
   "outputs": [],
   "source": [
    "fig = go.Figure()\n",
    "fig.add_trace(go.Scatter(x=Data_US_op.index, y=Data_US_op['Recovered'],\n",
    "                    mode='lines',\n",
    "                    name='Recovered cases in US'))\n",
    "\n",
    "\n",
    "fig.add_trace(go.Scatter(x=Data_Word_op.index, y=Data_Word_op['Recovered'],\n",
    "                    mode='lines',\n",
    "                    name='Recovered cases in The Rest Of The Word'))\n",
    "\n",
    "fig.update_layout(\n",
    "    title='Evolution of Recovered cases over time in US and The Rest Of The Word',\n",
    "        template='plotly_dark'\n",
    "\n",
    ")\n",
    "\n",
    "fig.show()\n"
   ]
  },
  {
   "cell_type": "code",
   "execution_count": null,
   "id": "e449a364",
   "metadata": {},
   "outputs": [],
   "source": [
    "fig = go.Figure()\n",
    "fig.add_trace(go.Scatter(x=Data_US_op.index, y=Data_US_op['Deaths'],\n",
    "                    mode='lines',\n",
    "                    name='Deaths in US'))\n",
    "\n",
    "\n",
    "fig.add_trace(go.Scatter(x=Data_Word_op.index, y=Data_Word_op['Deaths'],\n",
    "                    mode='lines',\n",
    "                    name='Deathsin The Rest Of The Word'))\n",
    "fig.update_layout(\n",
    "    title='Evolution of Deaths over time in US and The Rest Of The Word',\n",
    "        template='plotly_white'\n",
    "\n",
    ")\n",
    "\n",
    "fig.show()"
   ]
  }
 ],
 "metadata": {
  "kernelspec": {
   "display_name": "Python 3 (ipykernel)",
   "language": "python",
   "name": "python3"
  },
  "language_info": {
   "codemirror_mode": {
    "name": "ipython",
    "version": 3
   },
   "file_extension": ".py",
   "mimetype": "text/x-python",
   "name": "python",
   "nbconvert_exporter": "python",
   "pygments_lexer": "ipython3",
   "version": "3.9.12"
  }
 },
 "nbformat": 4,
 "nbformat_minor": 5
}
